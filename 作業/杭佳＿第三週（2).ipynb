{
 "cells": [
  {
   "cell_type": "markdown",
   "metadata": {},
   "source": [
    "向日葵班有40位學生，學期結束後，老師希望知道班上的期末成績相關資訊，作為下個學期教學的參考。\n",
    " \n",
    "請隨機產生40筆0~100的數字作為向日葵班的成績分佈，接著列出最高分、最低分、及格人數(>=60)、平均數、標準差，並且以10分作為一個區間，使用圖表畫出各個區間的人數。"
   ]
  },
  {
   "cell_type": "code",
   "execution_count": 29,
   "metadata": {},
   "outputs": [],
   "source": [
    "%matplotlib inline\n",
    "import numpy as np\n",
    "import matplotlib.pyplot as plt"
   ]
  },
  {
   "cell_type": "code",
   "execution_count": 30,
   "metadata": {},
   "outputs": [],
   "source": [
    "G = np.random.randint(0, 101, (40))"
   ]
  },
  {
   "cell_type": "code",
   "execution_count": 31,
   "metadata": {},
   "outputs": [
    {
     "name": "stdout",
     "output_type": "stream",
     "text": [
      "最高分： 95\n",
      "最低分： 5\n",
      "及格人數： 17\n",
      "平均數： 52.7\n",
      "標準差： 25.036173829081793\n"
     ]
    }
   ],
   "source": [
    "print(\"最高分：\", G.max())\n",
    "print(\"最低分：\", G.min())\n",
    "print(\"及格人數：\", len(G[G>=60]))\n",
    "print(\"平均數：\", G.sum()/40)\n",
    "print(\"標準差：\", np.std(G))"
   ]
  },
  {
   "cell_type": "code",
   "execution_count": 32,
   "metadata": {},
   "outputs": [
    {
     "data": {
      "text/plain": [
       "[<matplotlib.lines.Line2D at 0x1168a6b10>]"
      ]
     },
     "execution_count": 32,
     "metadata": {},
     "output_type": "execute_result"
    },
    {
     "data": {
      "image/png": "[encoded data removed]",
      "text/plain": [
       "<Figure size 432x288 with 1 Axes>"
      ]
     },
     "metadata": {
      "needs_background": "light"
     },
     "output_type": "display_data"
    }
   ],
   "source": [
    "x = [10, 20, 30, 40, 50, 60, 70, 80, 90, 100]\n",
    "y = [len(G[G<=10]),\n",
    "    len(G[(G>10) & (G<=20)]),\n",
    "     len(G[(G>20) & (G<=30)]),\n",
    "     len(G[(G>30) & (G<=40)]),\n",
    "     len(G[(G>40) & (G<=50)]),\n",
    "     len(G[(G>50) & (G<=60)]),\n",
    "     len(G[(G>60) & (G<=70)]),\n",
    "     len(G[(G>70) & (G<=80)]),\n",
    "     len(G[(G>80) & (G<=90)]),\n",
    "     len(G[(G>90) & (G<=100)])]\n",
    "plt.plot(x, y)"
   ]
  }
 ],
 "metadata": {
  "kernelspec": {
   "display_name": "Python 3",
   "language": "python",
   "name": "python3"
  },
  "language_info": {
   "codemirror_mode": {
    "name": "ipython",
    "version": 3
   },
   "file_extension": ".py",
   "mimetype": "text/x-python",
   "name": "python",
   "nbconvert_exporter": "python",
   "pygments_lexer": "ipython3",
   "version": "3.7.4"
  }
 },
 "nbformat": 4,
 "nbformat_minor": 2
}
