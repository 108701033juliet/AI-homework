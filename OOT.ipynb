{
 "cells": [
  {
   "cell_type": "markdown",
   "metadata": {},
   "source": [
    "## 今天穿什麼好呢"
   ]
  },
  {
   "cell_type": "code",
   "execution_count": 1,
   "metadata": {},
   "outputs": [
    {
     "name": "stdout",
     "output_type": "stream",
     "text": [
      "星期幾>> 二\n",
      "拜託！你的穿搭你作主，不要問我！\n"
     ]
    }
   ],
   "source": [
    "oot = input(\"星期幾>> \")\n",
    "if (\"一\"and\"四\" in oot):\n",
    "    print(\"日系清純小可愛\")\n",
    "elif (\"二\"and \"六\"in oot):\n",
    "    print(\"韓系成熟穩重風\")\n",
    "else:\n",
    "    print(\"拜託！你的穿搭你作主，不要問我！\")"
   ]
  },
  {
   "cell_type": "code",
   "execution_count": null,
   "metadata": {},
   "outputs": [],
   "source": []
  }
 ],
 "metadata": {
  "kernelspec": {
   "display_name": "Python 3",
   "language": "python",
   "name": "python3"
  },
  "language_info": {
   "codemirror_mode": {
    "name": "ipython",
    "version": 3
   },
   "file_extension": ".py",
   "mimetype": "text/x-python",
   "name": "python",
   "nbconvert_exporter": "python",
   "pygments_lexer": "ipython3",
   "version": "3.7.4"
  }
 },
 "nbformat": 4,
 "nbformat_minor": 2
}
