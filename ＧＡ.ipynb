{
 "cells": [
  {
   "cell_type": "markdown",
   "metadata": {},
   "source": [
    "## 猜答案機"
   ]
  },
  {
   "cell_type": "code",
   "execution_count": 3,
   "metadata": {},
   "outputs": [
    {
     "name": "stdout",
     "output_type": "stream",
     "text": [
      ">> 可以幫我作弊嗎～ 霸脫～\n",
      "不要！\n"
     ]
    }
   ],
   "source": [
    "M = input(\">> \")\n",
    "if (\"幫我猜一個答案\" in M):\n",
    "    import random\n",
    "    a=random.choice(\"A,B,C,D,E\")\n",
    "    print(a)\n",
    "else :\n",
    "    print(\"不要！\")"
   ]
  },
  {
   "cell_type": "code",
   "execution_count": 4,
   "metadata": {},
   "outputs": [
    {
     "name": "stdout",
     "output_type": "stream",
     "text": [
      ">>  幫我猜一個答案\n",
      "A\n"
     ]
    }
   ],
   "source": [
    "M = input(\">> \")\n",
    "if (\"幫我猜一個答案\" in M):\n",
    "    import random\n",
    "    a=random.choice(\"ABCDE\")\n",
    "    print(a)\n",
    "else :\n",
    "    print(\"不要！\")"
   ]
  },
  {
   "cell_type": "code",
   "execution_count": 5,
   "metadata": {},
   "outputs": [
    {
     "name": "stdout",
     "output_type": "stream",
     "text": [
      ">> 幫我猜一個答案\n",
      "D\n"
     ]
    }
   ],
   "source": [
    "M = input(\">> \")\n",
    "if (\"幫我猜一個答案\" in M):\n",
    "    import random\n",
    "    a=random.choice(\"ABCDE\")\n",
    "    print(a)\n",
    "else :\n",
    "    print(\"不要！\")\n"
   ]
  }
 ],
 "metadata": {
  "kernelspec": {
   "display_name": "Python 3",
   "language": "python",
   "name": "python3"
  },
  "language_info": {
   "codemirror_mode": {
    "name": "ipython",
    "version": 3
   },
   "file_extension": ".py",
   "mimetype": "text/x-python",
   "name": "python",
   "nbconvert_exporter": "python",
   "pygments_lexer": "ipython3",
   "version": "3.7.4"
  }
 },
 "nbformat": 4,
 "nbformat_minor": 2
}
