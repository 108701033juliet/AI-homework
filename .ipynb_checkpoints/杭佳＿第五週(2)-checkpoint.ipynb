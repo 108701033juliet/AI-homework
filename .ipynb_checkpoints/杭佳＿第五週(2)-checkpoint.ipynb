{
 "cells": [
  {
   "cell_type": "code",
   "execution_count": 2,
   "metadata": {},
   "outputs": [],
   "source": [
    "%matplotlib inline\n",
    "import numpy as np\n",
    "import matplotlib.pyplot as plt\n",
    "import pandas as pd\n",
    "from ipywidgets import interact"
   ]
  },
  {
   "cell_type": "code",
   "execution_count": 9,
   "metadata": {},
   "outputs": [],
   "source": [
    "m1=np.random.randn(5,5)\n",
    "m2=np.random.randn(5,5)"
   ]
  },
  {
   "cell_type": "code",
   "execution_count": 13,
   "metadata": {},
   "outputs": [],
   "source": [
    "def matrix_plus(m1,m2):\n",
    "    m3=m1+m2\n",
    "    print(\"{}\".format(m3))"
   ]
  },
  {
   "cell_type": "code",
   "execution_count": 14,
   "metadata": {},
   "outputs": [
    {
     "name": "stdout",
     "output_type": "stream",
     "text": [
      "[[ 1.35680267  1.0567901   0.43866141 -0.79352307 -0.77433417]\n",
      " [-1.09188088 -1.44492836  0.48044475 -2.03978868 -1.82765277]\n",
      " [-1.62398449  1.5314256  -1.21900304  1.38501958  2.61480749]\n",
      " [ 1.52287154 -0.93927059  0.31120726  2.3166164   0.27451969]\n",
      " [-1.01573607  1.53982789  1.15068581  0.33535778  1.54493377]]\n"
     ]
    }
   ],
   "source": [
    "matrix_plus(m1,m2)"
   ]
  }
 ],
 "metadata": {
  "kernelspec": {
   "display_name": "Python 3",
   "language": "python",
   "name": "python3"
  },
  "language_info": {
   "codemirror_mode": {
    "name": "ipython",
    "version": 3
   },
   "file_extension": ".py",
   "mimetype": "text/x-python",
   "name": "python",
   "nbconvert_exporter": "python",
   "pygments_lexer": "ipython3",
   "version": "3.7.4"
  }
 },
 "nbformat": 4,
 "nbformat_minor": 2
}
