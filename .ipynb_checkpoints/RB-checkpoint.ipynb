{
 "cells": [
  {
   "cell_type": "markdown",
   "metadata": {},
   "source": [
    "## 感恩讚嘆機器人"
   ]
  },
  {
   "cell_type": "code",
   "execution_count": 1,
   "metadata": {},
   "outputs": [
    {
     "name": "stdout",
     "output_type": "stream",
     "text": [
      ">> 安安\n",
      "感恩杭佳，讚嘆杭佳\n",
      ">> 什麼東西？？？\n",
      "感恩杭佳，讚嘆杭佳\n",
      ">> 夠了！我不玩了\n",
      "感恩杭佳，讚嘆杭佳\n",
      ">> 掰掰\n",
      "感恩杭佳，讚嘆杭佳\n"
     ]
    }
   ],
   "source": [
    "M = \"\"\n",
    "while M != \"掰掰\":\n",
    "    M = input(\">> \")\n",
    "    print(\"感恩杭佳，讚嘆杭佳\")"
   ]
  }
 ],
 "metadata": {
  "kernelspec": {
   "display_name": "Python 3",
   "language": "python",
   "name": "python3"
  },
  "language_info": {
   "codemirror_mode": {
    "name": "ipython",
    "version": 3
   },
   "file_extension": ".py",
   "mimetype": "text/x-python",
   "name": "python",
   "nbconvert_exporter": "python",
   "pygments_lexer": "ipython3",
   "version": "3.7.4"
  }
 },
 "nbformat": 4,
 "nbformat_minor": 2
}
