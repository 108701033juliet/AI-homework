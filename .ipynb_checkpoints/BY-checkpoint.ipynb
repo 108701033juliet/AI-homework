{
 "cells": [
  {
   "cell_type": "markdown",
   "metadata": {},
   "source": [
    "## 少女漫畫不同系男主的台詞"
   ]
  },
  {
   "cell_type": "code",
   "execution_count": 2,
   "metadata": {},
   "outputs": [
    {
     "name": "stdout",
     "output_type": "stream",
     "text": [
      "貓系、狗系、熊系、狼系\n",
      ">> 狗系\n",
      "什麼什麼！要出去玩嗎！只要能和你在一起，哪裡我都願意去！\n"
     ]
    }
   ],
   "source": [
    "print(\"貓系、狗系、熊系、狼系\")\n",
    "message=input(\">> \")\n",
    "if (\"狗系\"in message):\n",
    "    print(\"什麼什麼！要出去玩嗎！只要能和你在一起，哪裡我都願意去！\")\n",
    "elif (\"熊系\" in message):\n",
    "    print(\"今天天有點涼，記得多穿點啊～什麼你沒帶外套？真拿妳沒辦法，我們一起圍這條圍巾吧！\")\n",
    "elif(\"狼系\"in message):\n",
    "    print(\"喂！那邊的小子，別色瞇瞇往我的女人看啊！看再久，我也不會把她讓給你的！\")\n",
    "elif (\"貓系\"in message):\n",
    "    print(\"我才不要出門。我只想和你一起窩在被子裡，感受你的體溫。\")\n",
    "else:\n",
    "    print(\"什麼！？都不是你的菜？當然啊，因為你是我的。\")"
   ]
  }
 ],
 "metadata": {
  "kernelspec": {
   "display_name": "Python 3",
   "language": "python",
   "name": "python3"
  },
  "language_info": {
   "codemirror_mode": {
    "name": "ipython",
    "version": 3
   },
   "file_extension": ".py",
   "mimetype": "text/x-python",
   "name": "python",
   "nbconvert_exporter": "python",
   "pygments_lexer": "ipython3",
   "version": "3.7.4"
  }
 },
 "nbformat": 4,
 "nbformat_minor": 2
}
