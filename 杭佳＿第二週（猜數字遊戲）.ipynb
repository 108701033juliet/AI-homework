{
 "cells": [
  {
   "cell_type": "code",
   "execution_count": 8,
   "metadata": {},
   "outputs": [
    {
     "name": "stdout",
     "output_type": "stream",
     "text": [
      "Populating the interactive namespace from numpy and matplotlib\n"
     ]
    }
   ],
   "source": [
    "%pylab inline"
   ]
  },
  {
   "cell_type": "code",
   "execution_count": 9,
   "metadata": {},
   "outputs": [],
   "source": [
    "N = randint(1, 100)"
   ]
  },
  {
   "cell_type": "code",
   "execution_count": 11,
   "metadata": {},
   "outputs": [
    {
     "name": "stdout",
     "output_type": "stream",
     "text": [
      "來猜猜我在想的數字 >>44\n",
      "大一點！\n",
      "來猜猜我在想的數字 >>55\n",
      "小一點！\n",
      "來猜猜我在想的數字 >>53\n",
      "小一點！\n",
      "來猜猜我在想的數字 >>48\n",
      "小一點！\n",
      "來猜猜我在想的數字 >>46\n",
      "小一點！\n",
      "來猜猜我在想的數字 >>45\n",
      "恭喜你！猜對了！\n"
     ]
    }
   ],
   "source": [
    "g=\"\"\n",
    "while g != str(N):\n",
    "    g = input(\"來猜猜我在想的數字 >>\")\n",
    "    if float(g) > N:\n",
    "        print(\"小一點！\")\n",
    "    elif float(g) < N:\n",
    "        print(\"大一點！\")\n",
    "    else:\n",
    "        print(\"恭喜你！猜對了！\")"
   ]
  },
  {
   "cell_type": "code",
   "execution_count": null,
   "metadata": {},
   "outputs": [],
   "source": []
  }
 ],
 "metadata": {
  "kernelspec": {
   "display_name": "Python 3",
   "language": "python",
   "name": "python3"
  },
  "language_info": {
   "codemirror_mode": {
    "name": "ipython",
    "version": 3
   },
   "file_extension": ".py",
   "mimetype": "text/x-python",
   "name": "python",
   "nbconvert_exporter": "python",
   "pygments_lexer": "ipython3",
   "version": "3.7.4"
  }
 },
 "nbformat": 4,
 "nbformat_minor": 2
}
