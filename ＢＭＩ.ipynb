{
 "cells": [
  {
   "cell_type": "markdown",
   "metadata": {},
   "source": [
    "## BMI計算器"
   ]
  },
  {
   "cell_type": "code",
   "execution_count": 1,
   "metadata": {},
   "outputs": [
    {
     "name": "stdout",
     "output_type": "stream",
     "text": [
      "Populating the interactive namespace from numpy and matplotlib\n"
     ]
    }
   ],
   "source": [
    "%pylab inline"
   ]
  },
  {
   "cell_type": "code",
   "execution_count": 2,
   "metadata": {},
   "outputs": [
    {
     "name": "stdout",
     "output_type": "stream",
     "text": [
      "體重(kg)：46\n",
      "身高(m)：1.60\n",
      "你的BMI是：17.968749999999996\n",
      "\n",
      "你太輕了！！多吃一點！\n"
     ]
    }
   ],
   "source": [
    "體重 = input(\"體重(kg)：\")\n",
    "身高 = input(\"身高(m)：\")\n",
    "BMI=float(體重)/float(身高)**2\n",
    "print( \"你的BMI是：\"+ str(BMI))\n",
    "print(\"\")\n",
    "if BMI<10:\n",
    "     print(\"你打錯了！身高的單位是公尺！重來！\")\n",
    "elif 10<BMI<18.5:\n",
    "    print(\"你太輕了！！多吃一點！\")\n",
    "elif 18.5<BMI<24:\n",
    "    print(\"哦！穠纖合度！\")\n",
    "else :\n",
    "    print(\"我覺得啦，你該稍微注意下自己的體重比較好ㄛ\")"
   ]
  },
  {
   "cell_type": "code",
   "execution_count": 16,
   "metadata": {},
   "outputs": [
    {
     "name": "stdout",
     "output_type": "stream",
     "text": [
      "體重(kg)：33\n",
      "身高(m)：136\n",
      "你的BMI是：0.0017841695501730104\n",
      "\n",
      "你打錯了！身高的單位是公尺！\n"
     ]
    }
   ],
   "source": [
    "體重 = input(\"體重(kg)：\")\n",
    "身高 = input(\"身高(m)：\")\n",
    "BMI=float(體重)/float(身高)**2\n",
    "print( \"你的BMI是：\"+ str(BMI))\n",
    "print(\"\")\n",
    "if BMI<10:\n",
    "     print(\"你打錯了！身高的單位是公尺！重來！\")\n",
    "elif 10<BMI<18.5:\n",
    "    print(\"你太輕了！！多吃一點！\")\n",
    "elif 18.5<BMI<24:\n",
    "    print(\"哦！穠纖合度！\")\n",
    "else :\n",
    "    print(\"我覺得啦，你該稍微注意下自己的體重比較好ㄛ\")"
   ]
  }
 ],
 "metadata": {
  "kernelspec": {
   "display_name": "Python 3",
   "language": "python",
   "name": "python3"
  },
  "language_info": {
   "codemirror_mode": {
    "name": "ipython",
    "version": 3
   },
   "file_extension": ".py",
   "mimetype": "text/x-python",
   "name": "python",
   "nbconvert_exporter": "python",
   "pygments_lexer": "ipython3",
   "version": "3.7.4"
  }
 },
 "nbformat": 4,
 "nbformat_minor": 2
}
